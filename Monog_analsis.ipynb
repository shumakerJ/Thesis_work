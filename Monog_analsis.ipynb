{
 "cells": [
  {
   "cell_type": "code",
   "execution_count": 6,
   "id": "6fb6b4d2",
   "metadata": {},
   "outputs": [],
   "source": [
    "import pandas as pd\n",
    "import numpy as np\n",
    "import matplotlib.pyplot as plt\n",
    "import seaborn as sns\n",
    "import ast"
   ]
  },
  {
   "cell_type": "code",
   "execution_count": 33,
   "id": "1b651001",
   "metadata": {},
   "outputs": [],
   "source": [
    "df8 = pd.read_csv(R\"Data\\bound_8_all.csv\")"
   ]
  },
  {
   "cell_type": "code",
   "execution_count": 34,
   "id": "90496317",
   "metadata": {},
   "outputs": [
    {
     "data": {
      "text/html": [
       "<div>\n",
       "<style scoped>\n",
       "    .dataframe tbody tr th:only-of-type {\n",
       "        vertical-align: middle;\n",
       "    }\n",
       "\n",
       "    .dataframe tbody tr th {\n",
       "        vertical-align: top;\n",
       "    }\n",
       "\n",
       "    .dataframe thead th {\n",
       "        text-align: right;\n",
       "    }\n",
       "</style>\n",
       "<table border=\"1\" class=\"dataframe\">\n",
       "  <thead>\n",
       "    <tr style=\"text-align: right;\">\n",
       "      <th></th>\n",
       "      <th>coefficients</th>\n",
       "      <th>signature</th>\n",
       "      <th>discriminant</th>\n",
       "    </tr>\n",
       "  </thead>\n",
       "  <tbody>\n",
       "    <tr>\n",
       "      <th>0</th>\n",
       "      <td>[1, -7, -8, -3, -4]</td>\n",
       "      <td>[2]</td>\n",
       "      <td>-1760871</td>\n",
       "    </tr>\n",
       "    <tr>\n",
       "      <th>1</th>\n",
       "      <td>[1, -7, -8, -3, -2]</td>\n",
       "      <td>[2, 1]</td>\n",
       "      <td>-350191</td>\n",
       "    </tr>\n",
       "    <tr>\n",
       "      <th>2</th>\n",
       "      <td>[1, -7, -8, -3, -1]</td>\n",
       "      <td>[2]</td>\n",
       "      <td>-50724</td>\n",
       "    </tr>\n",
       "    <tr>\n",
       "      <th>3</th>\n",
       "      <td>[1, -7, -8, -3, 1]</td>\n",
       "      <td>[2]</td>\n",
       "      <td>-255856</td>\n",
       "    </tr>\n",
       "    <tr>\n",
       "      <th>4</th>\n",
       "      <td>[1, -7, -8, -3, 2]</td>\n",
       "      <td>[1]</td>\n",
       "      <td>-757383</td>\n",
       "    </tr>\n",
       "  </tbody>\n",
       "</table>\n",
       "</div>"
      ],
      "text/plain": [
       "          coefficients signature  discriminant\n",
       "0  [1, -7, -8, -3, -4]       [2]      -1760871\n",
       "1  [1, -7, -8, -3, -2]    [2, 1]       -350191\n",
       "2  [1, -7, -8, -3, -1]       [2]        -50724\n",
       "3   [1, -7, -8, -3, 1]       [2]       -255856\n",
       "4   [1, -7, -8, -3, 2]       [1]       -757383"
      ]
     },
     "execution_count": 34,
     "metadata": {},
     "output_type": "execute_result"
    }
   ],
   "source": [
    "df8.head()"
   ]
  },
  {
   "cell_type": "code",
   "execution_count": 35,
   "id": "44ec9495",
   "metadata": {},
   "outputs": [
    {
     "data": {
      "text/html": [
       "<div>\n",
       "<style scoped>\n",
       "    .dataframe tbody tr th:only-of-type {\n",
       "        vertical-align: middle;\n",
       "    }\n",
       "\n",
       "    .dataframe tbody tr th {\n",
       "        vertical-align: top;\n",
       "    }\n",
       "\n",
       "    .dataframe thead th {\n",
       "        text-align: right;\n",
       "    }\n",
       "</style>\n",
       "<table border=\"1\" class=\"dataframe\">\n",
       "  <thead>\n",
       "    <tr style=\"text-align: right;\">\n",
       "      <th></th>\n",
       "      <th>discriminant</th>\n",
       "    </tr>\n",
       "  </thead>\n",
       "  <tbody>\n",
       "    <tr>\n",
       "      <th>count</th>\n",
       "      <td>2.522700e+04</td>\n",
       "    </tr>\n",
       "    <tr>\n",
       "      <th>mean</th>\n",
       "      <td>-1.115002e+06</td>\n",
       "    </tr>\n",
       "    <tr>\n",
       "      <th>std</th>\n",
       "      <td>1.996222e+06</td>\n",
       "    </tr>\n",
       "    <tr>\n",
       "      <th>min</th>\n",
       "      <td>-2.088550e+07</td>\n",
       "    </tr>\n",
       "    <tr>\n",
       "      <th>25%</th>\n",
       "      <td>-1.344408e+06</td>\n",
       "    </tr>\n",
       "    <tr>\n",
       "      <th>50%</th>\n",
       "      <td>-3.570430e+05</td>\n",
       "    </tr>\n",
       "    <tr>\n",
       "      <th>75%</th>\n",
       "      <td>-4.074800e+04</td>\n",
       "    </tr>\n",
       "    <tr>\n",
       "      <th>max</th>\n",
       "      <td>3.353344e+06</td>\n",
       "    </tr>\n",
       "  </tbody>\n",
       "</table>\n",
       "</div>"
      ],
      "text/plain": [
       "       discriminant\n",
       "count  2.522700e+04\n",
       "mean  -1.115002e+06\n",
       "std    1.996222e+06\n",
       "min   -2.088550e+07\n",
       "25%   -1.344408e+06\n",
       "50%   -3.570430e+05\n",
       "75%   -4.074800e+04\n",
       "max    3.353344e+06"
      ]
     },
     "execution_count": 35,
     "metadata": {},
     "output_type": "execute_result"
    }
   ],
   "source": [
    "df8_uni= df8.drop_duplicates(subset=['signature', 'discriminant'])\n",
    "df8_uni.describe()"
   ]
  },
  {
   "cell_type": "code",
   "execution_count": 36,
   "id": "f932c76f",
   "metadata": {},
   "outputs": [
    {
     "name": "stderr",
     "output_type": "stream",
     "text": [
      "C:\\Users\\shuma\\AppData\\Local\\Temp\\ipykernel_29992\\3209405127.py:1: SettingWithCopyWarning: \n",
      "A value is trying to be set on a copy of a slice from a DataFrame.\n",
      "Try using .loc[row_indexer,col_indexer] = value instead\n",
      "\n",
      "See the caveats in the documentation: https://pandas.pydata.org/pandas-docs/stable/user_guide/indexing.html#returning-a-view-versus-a-copy\n",
      "  df8_uni['signature'] = df8_uni['signature'].apply(ast.literal_eval)\n",
      "C:\\Users\\shuma\\AppData\\Local\\Temp\\ipykernel_29992\\3209405127.py:2: SettingWithCopyWarning: \n",
      "A value is trying to be set on a copy of a slice from a DataFrame.\n",
      "Try using .loc[row_indexer,col_indexer] = value instead\n",
      "\n",
      "See the caveats in the documentation: https://pandas.pydata.org/pandas-docs/stable/user_guide/indexing.html#returning-a-view-versus-a-copy\n",
      "  df8_uni['coefficients'] = df8_uni['coefficients'].apply(ast.literal_eval)\n"
     ]
    }
   ],
   "source": [
    "df8_uni['signature'] = df8_uni['signature'].apply(ast.literal_eval)\n",
    "df8_uni['coefficients'] = df8_uni['coefficients'].apply(ast.literal_eval)"
   ]
  },
  {
   "cell_type": "code",
   "execution_count": 37,
   "id": "37d5ca0e",
   "metadata": {},
   "outputs": [],
   "source": [
    "df8_uni= df8_uni.copy()"
   ]
  },
  {
   "cell_type": "code",
   "execution_count": 38,
   "id": "054af2b3",
   "metadata": {},
   "outputs": [
    {
     "data": {
      "text/html": [
       "<div>\n",
       "<style scoped>\n",
       "    .dataframe tbody tr th:only-of-type {\n",
       "        vertical-align: middle;\n",
       "    }\n",
       "\n",
       "    .dataframe tbody tr th {\n",
       "        vertical-align: top;\n",
       "    }\n",
       "\n",
       "    .dataframe thead th {\n",
       "        text-align: right;\n",
       "    }\n",
       "</style>\n",
       "<table border=\"1\" class=\"dataframe\">\n",
       "  <thead>\n",
       "    <tr style=\"text-align: right;\">\n",
       "      <th></th>\n",
       "      <th>coefficients</th>\n",
       "      <th>signature</th>\n",
       "      <th>discriminant</th>\n",
       "    </tr>\n",
       "  </thead>\n",
       "  <tbody>\n",
       "    <tr>\n",
       "      <th>0</th>\n",
       "      <td>[1, -7, -8, -3, -4]</td>\n",
       "      <td>[2]</td>\n",
       "      <td>-1760871</td>\n",
       "    </tr>\n",
       "    <tr>\n",
       "      <th>1</th>\n",
       "      <td>[1, -7, -8, -3, -2]</td>\n",
       "      <td>[2, 1]</td>\n",
       "      <td>-350191</td>\n",
       "    </tr>\n",
       "    <tr>\n",
       "      <th>2</th>\n",
       "      <td>[1, -7, -8, -3, -1]</td>\n",
       "      <td>[2]</td>\n",
       "      <td>-50724</td>\n",
       "    </tr>\n",
       "    <tr>\n",
       "      <th>3</th>\n",
       "      <td>[1, -7, -8, -3, 1]</td>\n",
       "      <td>[2]</td>\n",
       "      <td>-255856</td>\n",
       "    </tr>\n",
       "    <tr>\n",
       "      <th>4</th>\n",
       "      <td>[1, -7, -8, -3, 2]</td>\n",
       "      <td>[1]</td>\n",
       "      <td>-757383</td>\n",
       "    </tr>\n",
       "  </tbody>\n",
       "</table>\n",
       "</div>"
      ],
      "text/plain": [
       "          coefficients signature  discriminant\n",
       "0  [1, -7, -8, -3, -4]       [2]      -1760871\n",
       "1  [1, -7, -8, -3, -2]    [2, 1]       -350191\n",
       "2  [1, -7, -8, -3, -1]       [2]        -50724\n",
       "3   [1, -7, -8, -3, 1]       [2]       -255856\n",
       "4   [1, -7, -8, -3, 2]       [1]       -757383"
      ]
     },
     "execution_count": 38,
     "metadata": {},
     "output_type": "execute_result"
    }
   ],
   "source": [
    "df8_uni.head()"
   ]
  },
  {
   "cell_type": "code",
   "execution_count": null,
   "id": "a5263fc8",
   "metadata": {},
   "outputs": [],
   "source": [
    "df8_uni['type_I'] = df8_uni.signature.apply(max) >1\n",
    "df8_uni['2-monogen'] = df8_uni.signature.apply(sum)>1"
   ]
  },
  {
   "cell_type": "code",
   "execution_count": 47,
   "id": "aaaf54c3",
   "metadata": {},
   "outputs": [
    {
     "data": {
      "text/html": [
       "<div>\n",
       "<style scoped>\n",
       "    .dataframe tbody tr th:only-of-type {\n",
       "        vertical-align: middle;\n",
       "    }\n",
       "\n",
       "    .dataframe tbody tr th {\n",
       "        vertical-align: top;\n",
       "    }\n",
       "\n",
       "    .dataframe thead th {\n",
       "        text-align: right;\n",
       "    }\n",
       "</style>\n",
       "<table border=\"1\" class=\"dataframe\">\n",
       "  <thead>\n",
       "    <tr style=\"text-align: right;\">\n",
       "      <th></th>\n",
       "      <th>coefficients</th>\n",
       "      <th>signature</th>\n",
       "      <th>discriminant</th>\n",
       "      <th>type_I</th>\n",
       "      <th>2-monogen</th>\n",
       "    </tr>\n",
       "  </thead>\n",
       "  <tbody>\n",
       "    <tr>\n",
       "      <th>0</th>\n",
       "      <td>[1, -7, -8, -3, -4]</td>\n",
       "      <td>[2]</td>\n",
       "      <td>-1760871</td>\n",
       "      <td>True</td>\n",
       "      <td>True</td>\n",
       "    </tr>\n",
       "    <tr>\n",
       "      <th>1</th>\n",
       "      <td>[1, -7, -8, -3, -2]</td>\n",
       "      <td>[2, 1]</td>\n",
       "      <td>-350191</td>\n",
       "      <td>True</td>\n",
       "      <td>True</td>\n",
       "    </tr>\n",
       "    <tr>\n",
       "      <th>2</th>\n",
       "      <td>[1, -7, -8, -3, -1]</td>\n",
       "      <td>[2]</td>\n",
       "      <td>-50724</td>\n",
       "      <td>True</td>\n",
       "      <td>True</td>\n",
       "    </tr>\n",
       "    <tr>\n",
       "      <th>3</th>\n",
       "      <td>[1, -7, -8, -3, 1]</td>\n",
       "      <td>[2]</td>\n",
       "      <td>-255856</td>\n",
       "      <td>True</td>\n",
       "      <td>True</td>\n",
       "    </tr>\n",
       "    <tr>\n",
       "      <th>4</th>\n",
       "      <td>[1, -7, -8, -3, 2]</td>\n",
       "      <td>[1]</td>\n",
       "      <td>-757383</td>\n",
       "      <td>False</td>\n",
       "      <td>False</td>\n",
       "    </tr>\n",
       "  </tbody>\n",
       "</table>\n",
       "</div>"
      ],
      "text/plain": [
       "          coefficients signature  discriminant  type_I  2-monogen\n",
       "0  [1, -7, -8, -3, -4]       [2]      -1760871    True       True\n",
       "1  [1, -7, -8, -3, -2]    [2, 1]       -350191    True       True\n",
       "2  [1, -7, -8, -3, -1]       [2]        -50724    True       True\n",
       "3   [1, -7, -8, -3, 1]       [2]       -255856    True       True\n",
       "4   [1, -7, -8, -3, 2]       [1]       -757383   False      False"
      ]
     },
     "execution_count": 47,
     "metadata": {},
     "output_type": "execute_result"
    }
   ],
   "source": [
    "df8_uni.head()"
   ]
  },
  {
   "cell_type": "code",
   "execution_count": 57,
   "id": "6a40d239",
   "metadata": {},
   "outputs": [
    {
     "data": {
      "text/plain": [
       "<Axes: xlabel='2-monogen'>"
      ]
     },
     "execution_count": 57,
     "metadata": {},
     "output_type": "execute_result"
    },
    {
     "data": {
      "image/png": "[encoded data removed]",
      "text/plain": [
       "<Figure size 640x480 with 1 Axes>"
      ]
     },
     "metadata": {},
     "output_type": "display_data"
    }
   ],
   "source": [
    "df8_uni['2-monogen'].value_counts().plot(kind= 'bar')"
   ]
  },
  {
   "cell_type": "code",
   "execution_count": 58,
   "id": "07f45089",
   "metadata": {},
   "outputs": [],
   "source": [
    "df8_uni_2= df8_uni[df8_uni['2-monogen'] == True]"
   ]
  },
  {
   "cell_type": "code",
   "execution_count": 61,
   "id": "f0ae0e36",
   "metadata": {},
   "outputs": [],
   "source": [
    "inspect= df8_uni_2[df8_uni_2['type_I']== False]"
   ]
  },
  {
   "cell_type": "code",
   "execution_count": 68,
   "id": "e300081e",
   "metadata": {},
   "outputs": [
    {
     "data": {
      "text/html": [
       "<div>\n",
       "<style scoped>\n",
       "    .dataframe tbody tr th:only-of-type {\n",
       "        vertical-align: middle;\n",
       "    }\n",
       "\n",
       "    .dataframe tbody tr th {\n",
       "        vertical-align: top;\n",
       "    }\n",
       "\n",
       "    .dataframe thead th {\n",
       "        text-align: right;\n",
       "    }\n",
       "</style>\n",
       "<table border=\"1\" class=\"dataframe\">\n",
       "  <thead>\n",
       "    <tr style=\"text-align: right;\">\n",
       "      <th></th>\n",
       "      <th>coefficients</th>\n",
       "      <th>signature</th>\n",
       "      <th>discriminant</th>\n",
       "      <th>type_I</th>\n",
       "      <th>2-monogen</th>\n",
       "    </tr>\n",
       "  </thead>\n",
       "  <tbody>\n",
       "    <tr>\n",
       "      <th>429</th>\n",
       "      <td>[1, -7, -6, -8, -6]</td>\n",
       "      <td>[1, 1]</td>\n",
       "      <td>-2686028</td>\n",
       "      <td>False</td>\n",
       "      <td>True</td>\n",
       "    </tr>\n",
       "    <tr>\n",
       "      <th>465</th>\n",
       "      <td>[1, -7, -6, -6, 2]</td>\n",
       "      <td>[1, 1]</td>\n",
       "      <td>-1521004</td>\n",
       "      <td>False</td>\n",
       "      <td>True</td>\n",
       "    </tr>\n",
       "    <tr>\n",
       "      <th>726</th>\n",
       "      <td>[1, -7, -5, -5, -6]</td>\n",
       "      <td>[1, 1]</td>\n",
       "      <td>-2949068</td>\n",
       "      <td>False</td>\n",
       "      <td>True</td>\n",
       "    </tr>\n",
       "    <tr>\n",
       "      <th>918</th>\n",
       "      <td>[1, -7, -5, 8, -7]</td>\n",
       "      <td>[1, 1]</td>\n",
       "      <td>-5898119</td>\n",
       "      <td>False</td>\n",
       "      <td>True</td>\n",
       "    </tr>\n",
       "    <tr>\n",
       "      <th>964</th>\n",
       "      <td>[1, -7, -4, -6, -6]</td>\n",
       "      <td>[1, 1]</td>\n",
       "      <td>-2872236</td>\n",
       "      <td>False</td>\n",
       "      <td>True</td>\n",
       "    </tr>\n",
       "    <tr>\n",
       "      <th>971</th>\n",
       "      <td>[1, -7, -4, -6, 2]</td>\n",
       "      <td>[1, 1]</td>\n",
       "      <td>-1246604</td>\n",
       "      <td>False</td>\n",
       "      <td>True</td>\n",
       "    </tr>\n",
       "    <tr>\n",
       "      <th>1280</th>\n",
       "      <td>[1, -7, -3, -2, -3]</td>\n",
       "      <td>[1, 1]</td>\n",
       "      <td>-697343</td>\n",
       "      <td>False</td>\n",
       "      <td>True</td>\n",
       "    </tr>\n",
       "    <tr>\n",
       "      <th>1815</th>\n",
       "      <td>[1, -7, 6, -1, -8]</td>\n",
       "      <td>[1, 1]</td>\n",
       "      <td>-1917999</td>\n",
       "      <td>False</td>\n",
       "      <td>True</td>\n",
       "    </tr>\n",
       "    <tr>\n",
       "      <th>1934</th>\n",
       "      <td>[1, -7, 6, 7, -2]</td>\n",
       "      <td>[1, 1]</td>\n",
       "      <td>341465</td>\n",
       "      <td>False</td>\n",
       "      <td>True</td>\n",
       "    </tr>\n",
       "    <tr>\n",
       "      <th>1990</th>\n",
       "      <td>[1, -7, 7, -6, -5]</td>\n",
       "      <td>[1, 1]</td>\n",
       "      <td>-1337863</td>\n",
       "      <td>False</td>\n",
       "      <td>True</td>\n",
       "    </tr>\n",
       "  </tbody>\n",
       "</table>\n",
       "</div>"
      ],
      "text/plain": [
       "             coefficients signature  discriminant  type_I  2-monogen\n",
       "429   [1, -7, -6, -8, -6]    [1, 1]      -2686028   False       True\n",
       "465    [1, -7, -6, -6, 2]    [1, 1]      -1521004   False       True\n",
       "726   [1, -7, -5, -5, -6]    [1, 1]      -2949068   False       True\n",
       "918    [1, -7, -5, 8, -7]    [1, 1]      -5898119   False       True\n",
       "964   [1, -7, -4, -6, -6]    [1, 1]      -2872236   False       True\n",
       "971    [1, -7, -4, -6, 2]    [1, 1]      -1246604   False       True\n",
       "1280  [1, -7, -3, -2, -3]    [1, 1]       -697343   False       True\n",
       "1815   [1, -7, 6, -1, -8]    [1, 1]      -1917999   False       True\n",
       "1934    [1, -7, 6, 7, -2]    [1, 1]        341465   False       True\n",
       "1990   [1, -7, 7, -6, -5]    [1, 1]      -1337863   False       True"
      ]
     },
     "execution_count": 68,
     "metadata": {},
     "output_type": "execute_result"
    }
   ],
   "source": [
    "inspect.head(10)"
   ]
  },
  {
   "cell_type": "code",
   "execution_count": 69,
   "id": "9d505ce8",
   "metadata": {},
   "outputs": [],
   "source": [
    "inspect.to_csv('EXP_orders.csv', index= False)"
   ]
  },
  {
   "cell_type": "code",
   "execution_count": null,
   "id": "01205bc8",
   "metadata": {},
   "outputs": [],
   "source": []
  },
  {
   "cell_type": "code",
   "execution_count": null,
   "id": "083f2945",
   "metadata": {},
   "outputs": [],
   "source": []
  },
  {
   "cell_type": "code",
   "execution_count": 60,
   "id": "66720e84",
   "metadata": {},
   "outputs": [
    {
     "data": {
      "text/plain": [
       "Text(0, 0.5, 'precents')"
      ]
     },
     "execution_count": 60,
     "metadata": {},
     "output_type": "execute_result"
    },
    {
     "data": {
      "image/png": "[encoded data removed]",
      "text/plain": [
       "<Figure size 640x480 with 1 Axes>"
      ]
     },
     "metadata": {},
     "output_type": "display_data"
    }
   ],
   "source": [
    "df8_uni_2['signature'].apply(sum).hist( density = True)\n",
    "\n",
    "plt.xlabel('Monogenizations')\n",
    "plt.ylabel('precents')\n"
   ]
  },
  {
   "cell_type": "code",
   "execution_count": null,
   "id": "8f041201",
   "metadata": {},
   "outputs": [],
   "source": []
  }
 ],
 "metadata": {
  "kernelspec": {
   "display_name": "erdos_summer_2025",
   "language": "python",
   "name": "python3"
  },
  "language_info": {
   "codemirror_mode": {
    "name": "ipython",
    "version": 3
   },
   "file_extension": ".py",
   "mimetype": "text/x-python",
   "name": "python",
   "nbconvert_exporter": "python",
   "pygments_lexer": "ipython3",
   "version": "3.12.10"
  }
 },
 "nbformat": 4,
 "nbformat_minor": 5
}
